{
 "cells": [
  {
   "cell_type": "markdown",
   "metadata": {},
   "source": [
    "### Follicle Labeler\n",
    "\n",
    "To run a cell: Click inside of the cell you wish to run, then press shift+enter to run cell and shift focus to next cell, or ctrl+enter to run cell and keep focus on current cell. Run each of the following cells in order.\n",
    "\n",
    "Be sure to edit the third cell with correct paths. Only change text between the ' ' marks, leave the r in front.\n",
    "\n",
    "Two windows will pop up when you run the third cell. The larger one is the one you will be interacting with - make sure to click inside the figure befor trying to give any key commands. The smaller window gives an overlay of how the two slices are currently lined up to assist in deciding if they should be realigned.\n",
    "\n",
    "Data files will be written to the directory that contains the image files. There will be 4 files written- 2 .pckl files and 2 .h5 files. The title of the files will contain the datetime you began running the labeler. Files are only written whe all slides have been labeled, new files will be written each time the labeler is run."
   ]
  },
  {
   "cell_type": "code",
   "execution_count": null,
   "metadata": {},
   "outputs": [],
   "source": [
    "# Import the module\n",
    "from fol_labeler import *\n",
    "# There may be a warning that pops up when you run this \n",
    "#   cell having to do with HDF5 versions - ignore it"
   ]
  },
  {
   "cell_type": "code",
   "execution_count": null,
   "metadata": {},
   "outputs": [],
   "source": [
    "# Set figures to display in new window \n",
    "#   - may need to run this cell more than once to get it to stick\n",
    "%matplotlib qt"
   ]
  },
  {
   "cell_type": "code",
   "execution_count": null,
   "metadata": {},
   "outputs": [],
   "source": [
    "# Full filepath of pickled dictionary from Nick's code \n",
    "pckl_path = r\"C:\\Users\\guru\\Desktop\\follicle_tracking\\Pad_3\\Pad3_2018_registered\\Pad3_follicles_sd.pckl\"\n",
    "# Directory containing registered images\n",
    "img_dir = r\"C:\\Users\\guru\\Desktop\\follicle_tracking\\Pad_3\\Pad3_2018_registered\"\n",
    "sd = load_fol_data(pckl_path)\n",
    "tracker = FolClicker(sd, img_dir)"
   ]
  },
  {
   "cell_type": "markdown",
   "metadata": {},
   "source": [
    "#### Rename Images \n",
    "Included here for convenience, should ideally be run before preprocessing, certainly before labeling"
   ]
  },
  {
   "cell_type": "code",
   "execution_count": null,
   "metadata": {},
   "outputs": [],
   "source": [
    "from fol_labeler import *\n",
    "img_dir = r\"C:\\Users\\guru\\Desktop\\follicle_tracking\\Pad_3\\Pad3_2018\"\n",
    "rename_images(img_dir)"
   ]
  },
  {
   "cell_type": "markdown",
   "metadata": {},
   "source": [
    "#### Plot Results\n",
    "Doesn't work super well, but gives a rough idea of results."
   ]
  },
  {
   "cell_type": "code",
   "execution_count": null,
   "metadata": {},
   "outputs": [],
   "source": [
    "from mpl_toolkits import mplot3d\n",
    "from random import shuffle\n",
    "# Randomize colors of follicles\n",
    "cols = ['y', 'm', 'r', 'c', 'g', 'b', 'k']\n",
    "for _ in range(7):\n",
    "    cols.extend(cols)\n",
    "shuffle(cols)\n",
    "LCOL = {}\n",
    "for x in range(len(LABELS)):\n",
    "    LCOL[LABELS[x]] = cols[x]"
   ]
  },
  {
   "cell_type": "code",
   "execution_count": null,
   "metadata": {},
   "outputs": [],
   "source": [
    "pckl_path = r\"C:\\Users\\guru\\Desktop\\follicle_tracking\\Pad_3\\Pad3_2018_registered\\Pad3_2018_registered_labeled_2018-12-21-10-28-36.pckl\"\n",
    "sd = load_fol_data(pckl_path)"
   ]
  },
  {
   "cell_type": "code",
   "execution_count": null,
   "metadata": {},
   "outputs": [],
   "source": [
    "fig = plt.figure()\n",
    "ax = plt.axes(projection='3d')\n",
    "offset = 0\n",
    "for sk, s in sd.iteritems():\n",
    "    if len(s['mid'])>2:\n",
    "        ax.plot([s['mid'][2]-10,s['mid'][2], s['mid'][2]+10], [s['mid'][3]-10, s['mid'][3], s['mid'][3]+10], offset)\n",
    "    for fk, f in s['aligned_fols'].iteritems():\n",
    "        if f['label'] != 'xx':\n",
    "            ax.plot(f['outer'][0], f['outer'][1], offset, LCOL[f['label']])\n",
    "    offset += 5\n",
    "# Add in some extra ghost slices to fix aspect ratio in plot\n",
    "for _ in range(100):\n",
    "    offset += 10\n",
    "    ax.plot([4000,4001], [3000,3001], offset)"
   ]
  }
 ],
 "metadata": {
  "kernelspec": {
   "display_name": "Python [conda env:py27]",
   "language": "python",
   "name": "conda-env-py27-py"
  },
  "language_info": {
   "codemirror_mode": {
    "name": "ipython",
    "version": 2
   },
   "file_extension": ".py",
   "mimetype": "text/x-python",
   "name": "python",
   "nbconvert_exporter": "python",
   "pygments_lexer": "ipython2",
   "version": "2.7.15"
  }
 },
 "nbformat": 4,
 "nbformat_minor": 2
}

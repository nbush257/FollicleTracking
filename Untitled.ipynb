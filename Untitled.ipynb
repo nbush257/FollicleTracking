{
 "cells": [
  {
   "cell_type": "code",
   "execution_count": null,
   "metadata": {},
   "outputs": [],
   "source": [
    "from fol_IO import *\n",
    "from helpers import *\n",
    "from scipy.spatial.distance import *"
   ]
  },
  {
   "cell_type": "code",
   "execution_count": null,
   "metadata": {},
   "outputs": [],
   "source": [
    "# Remove centroids with no follicles\n",
    "def remove_bbox_centroids(sd):\n",
    "    to_del = []\n",
    "    for sk in sd:\n",
    "        for fk in sd[sk]:\n",
    "            if 'outer' in sd[sk][fk].keys():\n",
    "                if not (sd[sk][fk]['outer'] and sd[sk][fk]['centroid'].any()):\n",
    "                    to_del.append((sk,fk))\n",
    "            else:\n",
    "                to_del.append((sk,fk))\n",
    "    for d in to_del:\n",
    "        del(sd[d[0]][d[1]])\n",
    "def plot_all_fols(slice_dict,I_file):\n",
    "    \"\"\"\n",
    "    Load an image and plot all the follicles. Seems buggy\n",
    "    :param slice_dict: The tracked follicles in the slice_dict format\n",
    "    :param I_file: An image file\n",
    "    :return: None\n",
    "    \"\"\"\n",
    "    I = io.imread(I_file)\n",
    "    slice_num = int(re.search('_\\d{4}\\.',I_file).group()[1:-1])\n",
    "    plt.figure(figsize=(10,10))\n",
    "    plt.imshow(I,'gray')\n",
    "    slice = slice_dict[slice_num]\n",
    "    for fol in slice.itervalues():\n",
    "        if 'inner' in fol.keys():\n",
    "            inner = fol['inner']\n",
    "        if 'outer' in fol.keys():\n",
    "            outer = fol['outer']\n",
    "        if 'centroid' in fol.keys():\n",
    "            centroid = fol['centroid']\n",
    "        bbox = fol['bbox']\n",
    "        if bbox:\n",
    "            coord,h,w = verts_to_patch_coords(*bbox)\n",
    "            rect = patches.Rectangle(coord,w,h,facecolor='none',edgecolor='r',linewidth=3)\n",
    "            plt.gca().add_patch(rect)\n",
    "        if inner:\n",
    "            plt.plot(inner[1],inner[0],'r.',markersize=1)\n",
    "        if outer:\n",
    "            plt.plot(outer[1],outer[0],'g.',markersize=1)\n",
    "#         if (outer or inner) and centroid.any():\n",
    "#             plt.plot(centroid[1], centroid[0], 'b.', markersize=10)\n",
    "        if centroid.any():\n",
    "            plt.plot(centroid[1], centroid[0], 'b.', markersize=10)\n",
    "            \n",
    "def rotate_by_deg(points, r):\n",
    "    r = np.radians(r)\n",
    "    rot = []\n",
    "    cos_r, sin_r = np.cos(r), np.sin(r)\n",
    "    for p in points:\n",
    "        rot.append([p[0] * cos_r - p[1] * sin_r, p[0] * sin_r + p[1] * cos_r])\n",
    "    return rot\n",
    "\n",
    "def plot_centroids(points1,points2=None, too_close = None, shifted = True):\n",
    "    plt.figure(figsize=(10,10))\n",
    "    if shifted:\n",
    "        plt.ylim(-2500,2500)\n",
    "        plt.xlim(-2500,2500)\n",
    "    else:\n",
    "        plt.ylim(0,5000)\n",
    "        plt.xlim(0,5000)\n",
    "    \n",
    "    if points2:\n",
    "        for p in points2:\n",
    "            plt.plot(p[1],p[0],'r.', markersize=10)\n",
    "    for p in points1:\n",
    "        plt.plot(p[1],p[0],'b.', markersize=10)\n",
    "    if too_close:\n",
    "        for t in too_close:\n",
    "            plt.plot(t[1],t[0],'g.', markersize=10)\n",
    "\n",
    "    plt.show()\n",
    "    \n",
    "# def closest(points):\n",
    "#     for \n",
    "    \n",
    "def translate(points, x, y):\n",
    "    trans = []\n",
    "    for p in points:\n",
    "        trans.append([p[0] + x, p[1]+y])\n",
    "    return trans\n",
    "    \n",
    "    \n",
    "    \n",
    "# class follicle_clicker(object):\n",
    "#     __init__(self, )"
   ]
  },
  {
   "cell_type": "code",
   "execution_count": null,
   "metadata": {},
   "outputs": [],
   "source": [
    "# Start with middle slice\n",
    "# You may press l to label follicles at any time\n",
    "# Attempt to auto align follicles, can press key to realign by clickin on matching centroids (or two to completely lock it)\n",
    "# Press a key to remove slice from analysis\n",
    "# \n",
    "# Store: rotation and translation\n",
    "\n",
    "\n",
    "\n",
    "# Show two images side by side with centroids plotted\n",
    "# click on the same centroid in both images twice\n",
    "# calc rot/trans images - line up center of points, rotate until distance is min\n",
    "# calc labels - point within last n (2?3?4?) slides within thresh distance\n",
    "# update label colors\n",
    "# double click to label/change label\n",
    "# commands - relable (hover over point and press r), exclude slide\n",
    "\n",
    "# label - state machine in keyreader, if in read state wait for enter\n",
    "\n",
    "labels = ['a0', 'a1', 'a2', 'a3', 'a4', 'a5', 'a6', 'a']\n",
    "\n"
   ]
  },
  {
   "cell_type": "code",
   "execution_count": null,
   "metadata": {},
   "outputs": [],
   "source": [
    "labels = []\n",
    "for a in 'abcdefg':\n",
    "    for i in range(10):\n",
    "        labels.append(a + str(i))\n",
    "print labels"
   ]
  },
  {
   "cell_type": "code",
   "execution_count": null,
   "metadata": {},
   "outputs": [],
   "source": []
  },
  {
   "cell_type": "code",
   "execution_count": null,
   "metadata": {},
   "outputs": [],
   "source": [
    "sd = load_fol_data(r'C:\\Users\\guru\\Desktop\\follicle_tracking\\my.pckl')"
   ]
  },
  {
   "cell_type": "code",
   "execution_count": null,
   "metadata": {
    "scrolled": false
   },
   "outputs": [],
   "source": [
    "sd.keys()"
   ]
  },
  {
   "cell_type": "code",
   "execution_count": null,
   "metadata": {},
   "outputs": [],
   "source": [
    "plot_all_fols(sd, r'C:\\Users\\guru\\Desktop\\follicle_tracking\\pad2_2018_registered\\regPad2_2018_0030.tif')"
   ]
  },
  {
   "cell_type": "code",
   "execution_count": null,
   "metadata": {},
   "outputs": [],
   "source": [
    "remove_bbox_centroids(sd)\n",
    "plot_all_fols(sd, r'C:\\Users\\guru\\Desktop\\follicle_tracking\\pad2_2018_registered\\regPad2_2018_0030.tif')\n",
    "plot_all_fols(sd, r'C:\\Users\\guru\\Desktop\\follicle_tracking\\pad2_2018_registered\\regPad2_2018_0031.tif')"
   ]
  },
  {
   "cell_type": "code",
   "execution_count": null,
   "metadata": {},
   "outputs": [],
   "source": [
    "%matplotlib qt"
   ]
  },
  {
   "cell_type": "code",
   "execution_count": null,
   "metadata": {},
   "outputs": [],
   "source": [
    "%matplotlib inline"
   ]
  },
  {
   "cell_type": "code",
   "execution_count": null,
   "metadata": {
    "scrolled": true
   },
   "outputs": [],
   "source": [
    "# HERE\n",
    "# remove bbox centroids\n",
    "# Show two images with fols and centroids\n",
    "# press space to pass or \n",
    "# Click on two centroids that you want to line up\n",
    "# find centroid nearest to click\n",
    "# translate second image so centroids line up\n",
    "# rotate 2nd image about chosen centroid to minimize median error\n",
    "\n",
    "click_points = []\n",
    "\n",
    "I_file = r'C:\\Users\\guru\\Desktop\\follicle_tracking\\pad2_2018_registered\\regPad2_2018_0033.tif'\n",
    "I = io.imread(I_file)\n",
    "\n",
    "fig = plt.figure(figsize=(14,7))\n",
    "ax = fig.add_subplot(121)\n",
    "ay = fig.add_subplot(122)\n",
    "\n",
    "\n",
    "ax.imshow(I,'gray')\n",
    "\n",
    "I_file = r'C:\\Users\\guru\\Desktop\\follicle_tracking\\pad2_2018_registered\\regPad2_2018_0034.tif'\n",
    "I = io.imread(I_file)\n",
    "ay.imshow(I,'gray')\n",
    "\n",
    "points = centroids[0]\n",
    "for p in points:\n",
    "    ax.plot(p[1],p[0], 'b.',markersize=10 )\n",
    "    \n",
    "points = centroids[1]\n",
    "for p in points:\n",
    "    ay.plot(p[1],p[0], 'b.',markersize=10 )\n",
    "\n",
    "def onclick(event):\n",
    "#     global click_points\n",
    "    print('%s click: button=%d, x=%d, y=%d, xdata=%f, ydata=%f' %\n",
    "          ('double' if event.dblclick else 'single', event.button,\n",
    "           event.x, event.y, event.xdata, event.ydata))\n",
    "    \n",
    "    if event.inaxes == ax:\n",
    "        print('ax')\n",
    "    elif event.inaxes == ay:\n",
    "        print('Y')\n",
    "    \n",
    "    if event.dblclick:\n",
    "        click_points.append([event.xdata,event.ydata])\n",
    "\n",
    "cid = fig.canvas.mpl_connect('button_press_event', onclick)"
   ]
  },
  {
   "cell_type": "code",
   "execution_count": null,
   "metadata": {},
   "outputs": [],
   "source": [
    "print ax"
   ]
  },
  {
   "cell_type": "code",
   "execution_count": null,
   "metadata": {},
   "outputs": [],
   "source": [
    "click_points"
   ]
  },
  {
   "cell_type": "code",
   "execution_count": null,
   "metadata": {},
   "outputs": [],
   "source": [
    "plot_all_fols(sd, r'C:\\Users\\guru\\Desktop\\follicle_tracking\\pad2_2018_registered\\regPad2_2018_0033.tif')"
   ]
  },
  {
   "cell_type": "code",
   "execution_count": null,
   "metadata": {
    "scrolled": false
   },
   "outputs": [],
   "source": [
    "# TODO HERE remove outliers, doubled points first\n",
    "\n",
    "\n",
    "\n",
    "#get rotation matrix\n",
    "\n",
    "# get centroid for firs, subtract mean, get centroid for second, subtract mean,\n",
    "#  iterate over rotations to minimze diffeces between centroid and nearest centroid from prev\n",
    "\n",
    "# plot_all_fols(sd, r'C:\\Users\\guru\\Desktop\\follicle_tracking\\pad2_2018_registered\\regPad2_2018_0030.tif')\n",
    "# plot_all_fols(sd, r'C:\\Users\\guru\\Desktop\\follicle_tracking\\pad2_2018_registered\\regPad2_2018_0031.tif')\n",
    "remove_bbox_centroids(sd)\n",
    "rot = {}\n",
    "sorted_keys = sorted(sd)\n",
    "\n",
    "for ki in range(len(sorted_keys)-1):\n",
    "    # get centroids, and centroids shifted so mean point is at origin\n",
    "    centroids = [[],[]]\n",
    "    shifted_centroids = [[],[]]\n",
    "    for i in range(2):\n",
    "        s = sd[sorted_keys[ki+i]]\n",
    "        # mean of centroids\n",
    "        csum = [0,0]       \n",
    "        for f in s.itervalues():\n",
    "            centroids[i].append(f['centroid'])\n",
    "            csum[0] = csum[0]+f['centroid'][0]\n",
    "            csum[1] = csum[1]+f['centroid'][1]\n",
    "        cavg = [csum[0]/len(centroids[i]), csum[1]/len(centroids[i])]\n",
    "\n",
    "        for c in centroids[i]:\n",
    "            shifted_centroids[i].append((c[0]-cavg[0], c[1]-cavg[1]))\n",
    "    plot_centroids(centroids[0], centroids[1], shifted=False)\n",
    "    plot_centroids(shifted_centroids[0], shifted_centroids[1])\n",
    "    # get ballpark of correct rotation\n",
    "    error = []\n",
    "    #iteratate over each rotation\n",
    "    for r in range(0, 361):\n",
    "        rot = rotate_by_deg(shifted_centroids[1], r)\n",
    "#         cd = cdist(shifted_centroids[0], shifted_centroids[1])\n",
    "        cd = cdist(shifted_centroids[0], rot)\n",
    "        min_cols = cd.min(axis=0)   # closest point to each centroid from first slice in second slice\n",
    "        min_rows = cd.min(axis=1)   # closest point in first slice to all points in second slice\n",
    "        for _ in range(2):\n",
    "            min_cols = min_cols[np.where(min_cols != max(min_cols))]\n",
    "            min_rows = min_rows[np.where(min_rows != max(min_rows))]\n",
    "        error.append(np.median(min_cols) + np.median(min_rows))\n",
    "    \n",
    "    r = error.index(min(error))\n",
    "    rot = rotate_by_deg(shifted_centroids[1], r)\n",
    "    \n",
    "    plot_centroids(shifted_centroids[0], rot)\n",
    "    \n",
    "    error = []\n",
    "    xy_shift = []\n",
    "    for x in range(-250, 250):\n",
    "        for y in range(-250, 250):\n",
    "            trans = translate(rot, x, y)\n",
    "            cd = cdist(shifted_centroids[0], trans)\n",
    "            min_cols = cd.min(axis=0)   # closest point to each centroid from first slice in second slice\n",
    "            min_rows = cd.min(axis=1)   # closest point in first slice to all points in second slice\n",
    "            error.append(np.median(min_cols) + np.median(min_rows))\n",
    "            xy_shift.append([x,y])\n",
    "\n",
    "    idx = error.index(min(error))\n",
    "    pt = xy_shift[idx]\n",
    "    trans = translate(rot, pt[0],pt[1])\n",
    "    plot_centroids(shifted_centroids[0], trans)\n",
    "\n",
    "    \n",
    "    \n",
    "    \n",
    "    # refine rotion and translation by not including centroids that don't show up in both images    \n",
    "#     pick rotation with smallest error\n",
    "#     temporarily remove points with no corresponding point in other slice\n",
    "#     remove centroids that are too close to each other\n",
    "#     find new center, rot again\n",
    "#     translate one image by amount that would make centers line up"
   ]
  },
  {
   "cell_type": "code",
   "execution_count": null,
   "metadata": {},
   "outputs": [],
   "source": [
    "# TODO HERE remove outliers, doubled points first\n",
    "\n",
    "\n",
    "\n",
    "#get rotation matrix\n",
    "\n",
    "# get centroid for firs, subtract mean, get centroid for second, subtract mean,\n",
    "#  iterate over rotations to minimze diffeces between centroid and nearest centroid from prev\n",
    "\n",
    "plot_all_fols(sd, r'C:\\Users\\guru\\Desktop\\follicle_tracking\\pad2_2018_registered\\regPad2_2018_0030.tif')\n",
    "plot_all_fols(sd, r'C:\\Users\\guru\\Desktop\\follicle_tracking\\pad2_2018_registered\\regPad2_2018_0031.tif')\n",
    "\n",
    "min_dist = 50\n",
    "\n",
    "rot = {}\n",
    "s_keys = sorted(sd)\n",
    "\n",
    "for ki in range(len(s_keys)-1):\n",
    "    # get centroids, and centroids shifted so mean point is at origin\n",
    "    centroids = [[],[]]\n",
    "    shifted_centroids = [[],[]]\n",
    "    c_keys = [[],[]]\n",
    "    for i in range(2):\n",
    "        s = sd[sorted_keys[ki+i]]\n",
    "        f_keys = sorted(s)\n",
    "        for f in f_keys:\n",
    "            centroids[i].append(s[f]['centroid'])\n",
    "            c_keys[i].append(f)\n",
    "#             print(c_keys[i])\n",
    "    \n",
    "    \n",
    "    \n",
    "    # closest point\n",
    "    cp = cdist(centroids[0], centroids[0])\n",
    "    # remove diagonal entries (self distance), reshape to square array\n",
    "    cp = cp[~np.eye(cp.shape[0],dtype=bool)].reshape(cp.shape[0],-1) \n",
    "    cp = cp.min(axis=1)\n",
    "    \n",
    "    \n",
    "    \n",
    "    print(cp)\n",
    "    \n",
    "    too_close = []\n",
    "    close_keys = []\n",
    "    s = sd[sorted_keys[ki]]\n",
    "    for i in range(len(cp)):\n",
    "        if cp[i] < min_dist:\n",
    "#             print(cp[i])\n",
    "            close_keys.append(c_keys[0][i])\n",
    "    print(close_keys)  \n",
    "    for c in close_keys:\n",
    "        too_close.append(s[c]['centroid'])\n",
    "        print(s[c]['bbox'])\n",
    "        print(pdist([[s[c]['bbox'][0],s[c]['bbox'][1]],[s[c]['bbox'][2],s[c]['bbox'][3]]]))\n",
    "    plot_centroids(points1=centroids[0], too_close=too_close, shifted=False)\n",
    "    \n",
    "    \n",
    "    # if one is completely inside of other, use outside, else use one with more points on outer ellipse\n",
    "    \n",
    "    \n",
    "    \n",
    "    \n",
    "#     cd = cdist(centroids[0], centroids[1])\n",
    "#     min_rows = cd.min(axis=1)   # closest point in first slice to all points in second slice\n",
    "#     min_cols = cd.min(axis=0)   # closest point to each centroid from first slice in second slice\n",
    "\n",
    "    \n",
    "#     print(min_rows)\n",
    "#     print(min_cols)\n",
    "    \n",
    "    \n",
    "    \n",
    "#     c = cdist(centroids[0], centroids[1])\n",
    "#     plot_centroids(centroids[0], centroids[1], False)\n",
    "    \n",
    "    \n",
    "    \n",
    "    \n",
    "    \n",
    "    \n",
    "    \n",
    "#     print min(p[0])\n",
    "#     print min(p[1])\n",
    "#     print np.median(p[0])\n",
    "#     print np.median(p[1])\n",
    "#     print c.min()\n",
    "#     print c.max()\n",
    "#     print np.median(c)\n",
    "    \n",
    "    \n",
    "#     for i in range(2):\n",
    "#         s = sd[sorted_keys[ki+i]]\n",
    "#         # mean of centroids\n",
    "#         csum = [0,0]       \n",
    "#         for f in s.itervalues():\n",
    "#             centroids[i].append(f['centroid'])\n",
    "#             csum[0] = csum[0]+f['centroid'][0]\n",
    "#             csum[1] = csum[1]+f['centroid'][1]\n",
    "#         cavg = [csum[0]/len(centroids[i]), csum[1]/len(centroids[i])]\n",
    "\n",
    "#         for c in centroids[i]:\n",
    "#             shifted_centroids[i].append((c[0]-cavg[0], c[1]-cavg[1]))\n",
    "#     plot_centroids(centroids[0], centroids[1], False)\n",
    "#     plot_centroids(shifted_centroids[0], shifted_centroids[1])\n",
    "#     # get ballpark of correct rotation\n",
    "#     error = []\n",
    "#     #iteratate over each rotation\n",
    "#     for r in range(0, 361):\n",
    "#         rot = rotate_by_deg(shifted_centroids[1], r)\n",
    "# #         cd = cdist(shifted_centroids[0], shifted_centroids[1])\n",
    "#         cd = cdist(shifted_centroids[0], rot)\n",
    "#         min_cols = cd.min(axis=0)   # closest point to each centroid from first slice in second slice\n",
    "#         min_rows = cd.min(axis=1)   # closest point in first slice to all points in second slice\n",
    "#         error.append(np.median(min_cols) + np.median(min_rows))\n",
    "    \n",
    "#     r = error.index(min(error))\n",
    "#     rot = rotate_by_deg(shifted_centroids[1], r)\n",
    "    \n",
    "#     plot_centroids(shifted_centroids[0], rot)\n",
    "    \n",
    "    \n",
    "    # refine rotion and translation by not including centroids that don't show up in both images    \n",
    "#     pick rotation with smallest error\n",
    "#     temporarily remove points with no corresponding point in other slice\n",
    "#     remove centroids that are too close to each other\n",
    "#     find new center, rot again\n",
    "#     translate one image by amount that would make centers line up"
   ]
  },
  {
   "cell_type": "code",
   "execution_count": null,
   "metadata": {},
   "outputs": [],
   "source": []
  },
  {
   "cell_type": "code",
   "execution_count": null,
   "metadata": {},
   "outputs": [],
   "source": []
  },
  {
   "cell_type": "code",
   "execution_count": null,
   "metadata": {},
   "outputs": [],
   "source": []
  },
  {
   "cell_type": "code",
   "execution_count": null,
   "metadata": {},
   "outputs": [],
   "source": [
    "sd = load_fol_data(r'C:\\Users\\guru\\Desktop\\follicle_tracking\\Pad2_follicles_sd.pckl')"
   ]
  },
  {
   "cell_type": "code",
   "execution_count": null,
   "metadata": {},
   "outputs": [],
   "source": [
    "a = { your_key: sd[your_key] for your_key in range(30,35) }"
   ]
  },
  {
   "cell_type": "code",
   "execution_count": null,
   "metadata": {},
   "outputs": [],
   "source": [
    "pickle.dump( a, open( r'C:\\Users\\guru\\Desktop\\follicle_tracking\\my.pckl', 'w' ) )"
   ]
  },
  {
   "cell_type": "code",
   "execution_count": null,
   "metadata": {},
   "outputs": [],
   "source": []
  },
  {
   "cell_type": "code",
   "execution_count": null,
   "metadata": {},
   "outputs": [],
   "source": []
  },
  {
   "cell_type": "code",
   "execution_count": null,
   "metadata": {},
   "outputs": [],
   "source": []
  },
  {
   "cell_type": "code",
   "execution_count": null,
   "metadata": {},
   "outputs": [],
   "source": []
  },
  {
   "cell_type": "code",
   "execution_count": null,
   "metadata": {},
   "outputs": [],
   "source": [
    "\n",
    "        "
   ]
  },
  {
   "cell_type": "code",
   "execution_count": null,
   "metadata": {},
   "outputs": [],
   "source": [
    "# 30,31,32 sequence where one gets flipped"
   ]
  },
  {
   "cell_type": "code",
   "execution_count": null,
   "metadata": {},
   "outputs": [],
   "source": [
    "len(sd[137])"
   ]
  },
  {
   "cell_type": "code",
   "execution_count": null,
   "metadata": {},
   "outputs": [],
   "source": [
    "plot_all_fols(sd, r'C:\\Users\\guru\\Desktop\\follicle_tracking\\pad2_2018_registered\\regPad2_2018_0030.tif')"
   ]
  },
  {
   "cell_type": "code",
   "execution_count": null,
   "metadata": {},
   "outputs": [],
   "source": [
    "sd = load_fol_data(r'C:\\Users\\guru\\Desktop\\follicle_tracking\\Pad2_follicles_sd.pckl')"
   ]
  },
  {
   "cell_type": "code",
   "execution_count": null,
   "metadata": {},
   "outputs": [],
   "source": [
    "(int)(len(sd.keys())/2)"
   ]
  },
  {
   "cell_type": "code",
   "execution_count": null,
   "metadata": {},
   "outputs": [],
   "source": []
  },
  {
   "cell_type": "code",
   "execution_count": null,
   "metadata": {},
   "outputs": [],
   "source": []
  },
  {
   "cell_type": "code",
   "execution_count": null,
   "metadata": {},
   "outputs": [],
   "source": []
  },
  {
   "cell_type": "code",
   "execution_count": null,
   "metadata": {},
   "outputs": [],
   "source": []
  },
  {
   "cell_type": "code",
   "execution_count": null,
   "metadata": {},
   "outputs": [],
   "source": []
  },
  {
   "cell_type": "code",
   "execution_count": null,
   "metadata": {},
   "outputs": [],
   "source": []
  },
  {
   "cell_type": "code",
   "execution_count": null,
   "metadata": {},
   "outputs": [],
   "source": []
  },
  {
   "cell_type": "code",
   "execution_count": null,
   "metadata": {},
   "outputs": [],
   "source": []
  },
  {
   "cell_type": "code",
   "execution_count": null,
   "metadata": {},
   "outputs": [],
   "source": []
  },
  {
   "cell_type": "code",
   "execution_count": null,
   "metadata": {},
   "outputs": [],
   "source": []
  },
  {
   "cell_type": "code",
   "execution_count": null,
   "metadata": {},
   "outputs": [],
   "source": [
    "dist(sd[110][10]['centroid'],sd[110][12]['centroid'])"
   ]
  },
  {
   "cell_type": "code",
   "execution_count": null,
   "metadata": {},
   "outputs": [],
   "source": [
    "a = sd[110][10]['centroid']\n",
    "b = sd[110][19]['centroid']"
   ]
  },
  {
   "cell_type": "code",
   "execution_count": null,
   "metadata": {},
   "outputs": [],
   "source": [
    "print a,b"
   ]
  },
  {
   "cell_type": "code",
   "execution_count": null,
   "metadata": {},
   "outputs": [],
   "source": [
    "((a[0]-b[0])**2 + (a[1]-b[1])**2)**(0.5)"
   ]
  },
  {
   "cell_type": "code",
   "execution_count": null,
   "metadata": {},
   "outputs": [],
   "source": [
    "((a[0]-b[0])**2 + (a[1]-b[1])**2)"
   ]
  },
  {
   "cell_type": "code",
   "execution_count": null,
   "metadata": {},
   "outputs": [],
   "source": [
    "4**(1/2)"
   ]
  },
  {
   "cell_type": "code",
   "execution_count": null,
   "metadata": {},
   "outputs": [],
   "source": []
  },
  {
   "cell_type": "code",
   "execution_count": null,
   "metadata": {},
   "outputs": [],
   "source": []
  },
  {
   "cell_type": "code",
   "execution_count": null,
   "metadata": {},
   "outputs": [],
   "source": []
  },
  {
   "cell_type": "code",
   "execution_count": null,
   "metadata": {},
   "outputs": [],
   "source": []
  },
  {
   "cell_type": "code",
   "execution_count": null,
   "metadata": {},
   "outputs": [],
   "source": []
  },
  {
   "cell_type": "code",
   "execution_count": null,
   "metadata": {},
   "outputs": [],
   "source": [
    "a = { your_key: sd[your_key] for your_key in range(30,33) }"
   ]
  },
  {
   "cell_type": "code",
   "execution_count": null,
   "metadata": {},
   "outputs": [],
   "source": [
    "a.keys()"
   ]
  },
  {
   "cell_type": "code",
   "execution_count": null,
   "metadata": {},
   "outputs": [],
   "source": []
  },
  {
   "cell_type": "code",
   "execution_count": null,
   "metadata": {},
   "outputs": [],
   "source": [
    "(int)(len(sd.keys())/2)"
   ]
  },
  {
   "cell_type": "code",
   "execution_count": null,
   "metadata": {},
   "outputs": [],
   "source": [
    "sd[110][10]"
   ]
  },
  {
   "cell_type": "code",
   "execution_count": null,
   "metadata": {},
   "outputs": [],
   "source": [
    "sd[110][10]['centroid'][0]"
   ]
  },
  {
   "cell_type": "code",
   "execution_count": null,
   "metadata": {},
   "outputs": [],
   "source": [
    "pickle.dump( a, open( r'C:\\Users\\guru\\Desktop\\follicle_tracking\\my.pckl', 'w' ) )"
   ]
  },
  {
   "cell_type": "code",
   "execution_count": null,
   "metadata": {},
   "outputs": [],
   "source": [
    "sd = load_fol_data(r'C:\\Users\\guru\\Desktop\\follicle_tracking\\my.pckl')"
   ]
  },
  {
   "cell_type": "code",
   "execution_count": null,
   "metadata": {},
   "outputs": [],
   "source": [
    "sd[110][10]['centroid']"
   ]
  },
  {
   "cell_type": "code",
   "execution_count": null,
   "metadata": {},
   "outputs": [],
   "source": [
    "c = []\n",
    "for k in sd.keys():\n",
    "    for k2 in sd[k].keys():\n",
    "        if 'centroid' in sd[k][k2].keys():\n",
    "            c.append(sd[k][k2]['centroid']) "
   ]
  },
  {
   "cell_type": "code",
   "execution_count": null,
   "metadata": {},
   "outputs": [],
   "source": [
    "c[0]"
   ]
  },
  {
   "cell_type": "code",
   "execution_count": null,
   "metadata": {
    "scrolled": false
   },
   "outputs": [],
   "source": [
    "sd[1]"
   ]
  },
  {
   "cell_type": "code",
   "execution_count": null,
   "metadata": {},
   "outputs": [],
   "source": []
  }
 ],
 "metadata": {
  "kernelspec": {
   "display_name": "Python [conda env:py27]",
   "language": "python",
   "name": "conda-env-py27-py"
  },
  "language_info": {
   "codemirror_mode": {
    "name": "ipython",
    "version": 2
   },
   "file_extension": ".py",
   "mimetype": "text/x-python",
   "name": "python",
   "nbconvert_exporter": "python",
   "pygments_lexer": "ipython2",
   "version": "2.7.15"
  }
 },
 "nbformat": 4,
 "nbformat_minor": 2
}
